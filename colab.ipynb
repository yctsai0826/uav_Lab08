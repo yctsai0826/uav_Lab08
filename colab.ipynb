{
 "cells": [
  {
   "cell_type": "code",
   "execution_count": null,
   "metadata": {
    "colab": {
     "base_uri": "https://localhost:8080/"
    },
    "executionInfo": {
     "elapsed": 18746,
     "status": "ok",
     "timestamp": 1732855110604,
     "user": {
      "displayName": "蔡昀錚",
      "userId": "01526882344043473374"
     },
     "user_tz": -480
    },
    "id": "qkWOOHTGFABA",
    "outputId": "cd57180a-c94b-419f-9540-3058d76ff2fe"
   },
   "outputs": [],
   "source": [
    "from google.colab import drive\n",
    "drive.mount('/content/drive')"
   ]
  },
  {
   "cell_type": "code",
   "execution_count": null,
   "metadata": {
    "colab": {
     "base_uri": "https://localhost:8080/"
    },
    "executionInfo": {
     "elapsed": 323,
     "status": "ok",
     "timestamp": 1732855113950,
     "user": {
      "displayName": "蔡昀錚",
      "userId": "01526882344043473374"
     },
     "user_tz": -480
    },
    "id": "hffHkRNGFaWo",
    "outputId": "194646cf-516e-4fff-e3b4-ddc71aefae7a"
   },
   "outputs": [],
   "source": [
    "%ls\n",
    "%cd drive/MyDrive/uav/yolov7-main"
   ]
  },
  {
   "cell_type": "code",
   "execution_count": null,
   "metadata": {
    "colab": {
     "base_uri": "https://localhost:8080/"
    },
    "executionInfo": {
     "elapsed": 39572,
     "status": "ok",
     "timestamp": 1732853353799,
     "user": {
      "displayName": "蔡昀錚",
      "userId": "01526882344043473374"
     },
     "user_tz": -480
    },
    "id": "u0907YS4GirD",
    "outputId": "092ebc3c-48bc-4b52-d3fd-6261a75c693d"
   },
   "outputs": [],
   "source": [
    "!python detect.py --weights yolov7-tiny.pt --conf 0.25 --img-size 640 --source inference/images/"
   ]
  },
  {
   "cell_type": "code",
   "execution_count": null,
   "metadata": {
    "colab": {
     "base_uri": "https://localhost:8080/"
    },
    "id": "RxiqB1rtNPVZ",
    "outputId": "2465d181-b99f-45b7-b538-41b606d5291d"
   },
   "outputs": [],
   "source": [
    "!python train.py --device 0 --batch-size 8 --data data/data.yaml --img 1280 720 --cfg cfg/training/yolov7-tiny-lab8.yaml --weights 'yolov7-tiny.pt' --name yolov7-lab08 --hyp data/hyp.scratch.tiny.yaml --epoch 20"
   ]
  }
 ],
 "metadata": {
  "accelerator": "GPU",
  "colab": {
   "authorship_tag": "ABX9TyOyX4ACv4z3aobIuGbsJv3G",
   "gpuType": "T4",
   "provenance": []
  },
  "kernelspec": {
   "display_name": "Python 3",
   "name": "python3"
  },
  "language_info": {
   "name": "python"
  }
 },
 "nbformat": 4,
 "nbformat_minor": 0
}
